{
 "cells": [
  {
   "cell_type": "code",
   "execution_count": null,
   "id": "23575b6f",
   "metadata": {},
   "outputs": [],
   "source": [
    "import os\n",
    "from glob import glob\n",
    "from pathlib import Path"
   ]
  },
  {
   "cell_type": "code",
   "execution_count": null,
   "id": "32617c24",
   "metadata": {},
   "outputs": [],
   "source": [
    "main_str = \"\"\"\n",
    "# Keras Tutorials\n",
    "\n",
    "- Just a repo with codes for various tasks using Keras/Tensorflow.\n",
    "- Most of them so far are from [keras](keras.io) but more will be added as and when I learn about tasks myself. \n",
    "- Many codes are not true to the original repos.\n",
    "- This is by no means comprehensive, but should be easy enough to take the codes for a specific task and get a concept working ASAP.\n",
    "\n",
    "## A huge thank you to\n",
    "\n",
    "- [keras.io](https://keras.io/examples/)\n",
    "\n",
    "## FAQ\n",
    "- Why are there notebook and py files for the same thing? Well. I prefer running things using py files and VSCode's IPython extension. Many others love notebooks. Each to their own. \n",
    "All the notebooks are auto generated and so have no inputs\n",
    "\n",
    "## INDEX\n",
    "\n",
    "\"\"\"\n",
    "subdirs = glob(\"./*/\", recursive=True)\n",
    "subdirs = [x for x in subdirs if not any([\"Drafts\" in x])]\n",
    "subdirs\n",
    "\n",
    "\n",
    "def return_git_link(x, name=None):\n",
    "    x = x.strip()[1::]\n",
    "    if name == None:\n",
    "        x = f\"  - [{x.split('/')[-1]}](https://github.com/SubhadityaMukherjee/keras_tutorial_repo/tree/main{x})\\n\"\n",
    "    else:\n",
    "        x = f\"- [{name[2::]}](https://github.com/SubhadityaMukherjee/keras_tutorial_repo/tree/main{x})\\n\"\n",
    "    return x\n",
    "\n",
    "\n",
    "for folder in subdirs:\n",
    "\n",
    "    main_str = main_str + return_git_link(folder, folder) + \"\\n\"\n",
    "    every_folder = [return_git_link(x) for x in glob(f\"{folder}*\", recursive=True)]\n",
    "    main_str = main_str + \"\\n\".join(every_folder) + \"\\n\"\n",
    "\n",
    "with open(\"README.md\", \"w+\") as f:\n",
    "    f.write(main_str)"
   ]
  }
 ],
 "metadata": {
  "jupytext": {
   "cell_metadata_filter": "-all",
   "main_language": "python",
   "notebook_metadata_filter": "-all"
  }
 },
 "nbformat": 4,
 "nbformat_minor": 5
}
